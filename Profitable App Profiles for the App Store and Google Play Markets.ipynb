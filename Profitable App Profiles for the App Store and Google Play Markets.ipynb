{
  "cells": [
    {
      "metadata": {
        "ExecuteTime": {
          "end_time": "2019-12-21T10:31:27.391205Z",
          "start_time": "2019-12-21T10:31:27.371620Z"
        }
      },
      "cell_type": "markdown",
      "source": "# Profitable App Profiles for the App Store and Google Play Markets\n\n Our aim in this project is to find mobile app profiles that are profitable for the App Store and Google Play markets. We're working as data analysts for a company that builds Android and iOS mobile apps, and our job is to enable our team of developers to make data-driven decisions with respect to the kind of apps they build.\n \n\nAt our company, we only build apps that are free to download and install, and our main source of revenue consists of in-app ads. This means that our revenue for any given app is mostly influenced by the number of users that use our app. Our goal for this project is to analyze data to help our developers understand what kinds of apps are likely to attract more users.\n\n## Opening and Exploring the Data\nAs of September 2018, there were approximately 2 million iOS apps available on the App Store, and 2.1 million Android apps on Google Play.\n\n<br>\n <img src=\"https://s3.amazonaws.com/dq-content/350/py1m8_statista.png\">\n <br>\n\nCollecting data for over four million apps requires a significant amount of time and money, so we'll try to analyze a sample of data instead. To avoid spending resources with collecting new data ourselves, we should first try to see whether we can find any relevant existing data at no cost. Luckily, these are two data sets that seem suitable for our purpose:\n\nA [data set](https://www.kaggle.com/lava18/google-play-store-apps) containing data about approximately ten thousand Android apps from Google Play. You can download the data set directly from [this link](https://dq-content.s3.amazonaws.com/350/googleplaystore.csv).<br> \nA [data set](https://www.kaggle.com/ramamet4/app-store-apple-data-set-10k-apps) containing data about approximately seven thousand iOS apps from the App Store. You can download the data set directly from [this link](https://dq-content.s3.amazonaws.com/350/AppleStore.csv).\nLet's start by opening the two data sets and then continue with exploring the data."
    },
    {
      "metadata": {
        "ExecuteTime": {
          "end_time": "2019-12-21T12:09:30.074576Z",
          "start_time": "2019-12-21T12:09:30.038308Z"
        },
        "trusted": true,
        "code_folding": []
      },
      "cell_type": "code",
      "source": "from csv import reader\ndef read_data(filename, header=True):\n    opened_file = open(filename, encoding='utf8')\n    read_file= reader(opened_file)\n    data= list(read_file)\n    if header:\n        return data[1:],data[0]\n    else:\n        return data\ndef explore_data(dataset,start,end, row_and_columns = False):\n    dataset_slice = dataset[start:end]\n    for row in dataset_slice:\n        print(row)\n    if row_and_columns:\n        print('Number of rows:', len(dataset))\n        print('Number of columns:', len(dataset[0]))",
      "execution_count": 2,
      "outputs": []
    },
    {
      "metadata": {
        "trusted": true,
        "ExecuteTime": {
          "start_time": "2019-12-21T12:12:07.037533Z",
          "end_time": "2019-12-21T12:12:07.100069Z"
        }
      },
      "cell_type": "code",
      "source": "Apple_Apps_data = explore_data(read_data('AppleStore.csv')[0],0,2,row_and_columns = True)",
      "execution_count": 3,
      "outputs": [
        {
          "output_type": "stream",
          "text": "['284882215', 'Facebook', '389879808', 'USD', '0.0', '2974676', '212', '3.5', '3.5', '95.0', '4+', 'Social Networking', '37', '1', '29', '1']\n['389801252', 'Instagram', '113954816', 'USD', '0.0', '2161558', '1289', '4.5', '4.0', '10.23', '12+', 'Photo & Video', '37', '0', '29', '1']\nNumber of rows: 7197\nNumber of columns: 16\n",
          "name": "stdout"
        }
      ]
    },
    {
      "metadata": {
        "ExecuteTime": {
          "start_time": "2019-12-21T12:12:26.661425Z",
          "end_time": "2019-12-21T12:12:26.700763Z"
        },
        "trusted": true
      },
      "cell_type": "code",
      "source": "Apple_Apps_columns_name = read_data('AppleStore.csv')[1]\nprint(Apple_Apps_columns_name)",
      "execution_count": 4,
      "outputs": [
        {
          "output_type": "stream",
          "text": "['id', 'track_name', 'size_bytes', 'currency', 'price', 'rating_count_tot', 'rating_count_ver', 'user_rating', 'user_rating_ver', 'ver', 'cont_rating', 'prime_genre', 'sup_devices.num', 'ipadSc_urls.num', 'lang.num', 'vpp_lic']\n",
          "name": "stdout"
        }
      ]
    },
    {
      "metadata": {
        "ExecuteTime": {
          "start_time": "2019-12-21T12:12:37.873232Z",
          "end_time": "2019-12-21T12:12:37.946764Z"
        },
        "trusted": true
      },
      "cell_type": "code",
      "source": "googleplay_Apps_data = explore_data(read_data('googleplaystore.csv')[0],0,2,row_and_columns = True)\n",
      "execution_count": 5,
      "outputs": [
        {
          "output_type": "stream",
          "text": "['Photo Editor & Candy Camera & Grid & ScrapBook', 'ART_AND_DESIGN', '4.1', '159', '19M', '10,000+', 'Free', '0', 'Everyone', 'Art & Design', 'January 7, 2018', '1.0.0', '4.0.3 and up']\n['Coloring book moana', 'ART_AND_DESIGN', '3.9', '967', '14M', '500,000+', 'Free', '0', 'Everyone', 'Art & Design;Pretend Play', 'January 15, 2018', '2.0.0', '4.0.3 and up']\nNumber of rows: 10841\nNumber of columns: 13\n",
          "name": "stdout"
        }
      ]
    },
    {
      "metadata": {
        "ExecuteTime": {
          "start_time": "2019-12-21T12:12:46.523697Z",
          "end_time": "2019-12-21T12:12:46.717271Z"
        },
        "trusted": true
      },
      "cell_type": "code",
      "source": "googleplay_Apps_columns_name =read_data('googleplaystore.csv')[1]\nprint(googleplay_Apps_columns_name)",
      "execution_count": 6,
      "outputs": [
        {
          "output_type": "stream",
          "text": "['App', 'Category', 'Rating', 'Reviews', 'Size', 'Installs', 'Type', 'Price', 'Content Rating', 'Genres', 'Last Updated', 'Current Ver', 'Android Ver']\n",
          "name": "stdout"
        }
      ]
    },
    {
      "metadata": {
        "trusted": true
      },
      "cell_type": "code",
      "source": "",
      "execution_count": null,
      "outputs": []
    }
  ],
  "metadata": {
    "_draft": {
      "nbviewer_url": "https://gist.github.com/b6149a7ae3fe01c6e4b0fa02889b5813"
    },
    "gist": {
      "id": "b6149a7ae3fe01c6e4b0fa02889b5813",
      "data": {
        "description": "Desktop/Dataquest/Profitable App Profiles for the App Store and Google Play Markets.ipynb",
        "public": true
      }
    },
    "kernelspec": {
      "name": "python3",
      "display_name": "Python 3",
      "language": "python"
    },
    "language_info": {
      "name": "python",
      "version": "3.7.4",
      "mimetype": "text/x-python",
      "codemirror_mode": {
        "name": "ipython",
        "version": 3
      },
      "pygments_lexer": "ipython3",
      "nbconvert_exporter": "python",
      "file_extension": ".py"
    },
    "toc": {
      "nav_menu": {},
      "number_sections": true,
      "sideBar": true,
      "skip_h1_title": false,
      "base_numbering": 1,
      "title_cell": "Table of Contents",
      "title_sidebar": "Contents",
      "toc_cell": false,
      "toc_position": {},
      "toc_section_display": true,
      "toc_window_display": false
    },
    "varInspector": {
      "window_display": false,
      "cols": {
        "lenName": 16,
        "lenType": 16,
        "lenVar": 40
      },
      "kernels_config": {
        "python": {
          "library": "var_list.py",
          "delete_cmd_prefix": "del ",
          "delete_cmd_postfix": "",
          "varRefreshCmd": "print(var_dic_list())"
        },
        "r": {
          "library": "var_list.r",
          "delete_cmd_prefix": "rm(",
          "delete_cmd_postfix": ") ",
          "varRefreshCmd": "cat(var_dic_list()) "
        }
      },
      "types_to_exclude": [
        "module",
        "function",
        "builtin_function_or_method",
        "instance",
        "_Feature"
      ]
    }
  },
  "nbformat": 4,
  "nbformat_minor": 2
}